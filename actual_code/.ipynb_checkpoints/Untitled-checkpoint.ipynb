{
 "cells": [
  {
   "cell_type": "code",
   "execution_count": 111,
   "metadata": {},
   "outputs": [
    {
     "data": {
      "text/plain": [
       "'C:\\\\Users\\\\KINSHUK\\\\Documents\\\\GitHub\\\\LaTeX-Generation-from-Printed-Equation\\\\actual_code'"
      ]
     },
     "execution_count": 111,
     "metadata": {},
     "output_type": "execute_result"
    }
   ],
   "source": [
    "fileName = 'Equations\\Clean\\eq1_hr.jpg'\n",
    "from skimage.color import rgb2gray\n",
    "import cv2\n",
    "from scipy.ndimage import interpolation as inter\n",
    "\n",
    "import numpy as np\n",
    "import os\n",
    "os.getcwd()"
   ]
  },
  {
   "cell_type": "code",
   "execution_count": 57,
   "metadata": {},
   "outputs": [],
   "source": [
    "def display_image(image,title):\n",
    "    scaleX = 0.5\n",
    "    scaleY = 0.5\n",
    "    scaleDown = cv2.resize(image, None, fx= scaleX, fy= scaleY, interpolation= cv2.INTER_LINEAR)\n",
    "    cv2.imshow(title, scaleDown)\n",
    "    cv2.waitKey()\n",
    "    cv2.destroyAllWindows()"
   ]
  },
  {
   "cell_type": "code",
   "execution_count": 58,
   "metadata": {},
   "outputs": [],
   "source": [
    "class Segments:\n",
    "    def __init__(self, image_val, boundingbox,centroids):\n",
    "        self.image_val=image_val\n",
    "        self.boundingbox = boundingbox\n",
    "        self.centroids = centroids"
   ]
  },
  {
   "cell_type": "code",
   "execution_count": 112,
   "metadata": {},
   "outputs": [],
   "source": [
    "def correct_skew(image, delta=1, limit=10):\n",
    "    def determine_score(arr, angle):\n",
    "        data = inter.rotate(arr, angle, reshape=False, order=0)\n",
    "        histogram = np.sum(data, axis=1)\n",
    "        score = np.sum((histogram[1:] - histogram[:-1]) ** 2)\n",
    "        return histogram, score\n",
    "\n",
    "    gray = cv2.cvtColor(image, cv2.COLOR_BGR2GRAY)\n",
    "    thresh = cv2.threshold(gray, 0, 255, cv2.THRESH_BINARY_INV + cv2.THRESH_OTSU)[1] \n",
    "\n",
    "    scores = []\n",
    "    angles = np.arange(-limit, limit + delta, delta)\n",
    "    for angle in angles:\n",
    "        histogram, score = determine_score(thresh, angle)\n",
    "        scores.append(score)\n",
    "\n",
    "    best_angle = angles[scores.index(max(scores))]\n",
    "\n",
    "    (h, w) = image.shape[:2]\n",
    "    center = (w // 2, h // 2)\n",
    "    M = cv2.getRotationMatrix2D(center, best_angle, 1.0)\n",
    "    rotated = cv2.warpAffine(image, M, (w, h), flags=cv2.INTER_CUBIC, \\\n",
    "              borderMode=cv2.BORDER_REPLICATE)\n",
    "\n",
    "    return best_angle, rotated"
   ]
  },
  {
   "cell_type": "code",
   "execution_count": 117,
   "metadata": {},
   "outputs": [
    {
     "name": "stdout",
     "output_type": "stream",
     "text": [
      "0\n"
     ]
    }
   ],
   "source": [
    "##deskew \n",
    "##input binary image\n",
    "## output deskewed image\n",
    "img = cv2.imread(fileName, cv2.IMREAD_COLOR) \n",
    "image=np.copy(img)\n",
    "gray = cv2.cvtColor(img, cv2.COLOR_BGR2GRAY)\n",
    "edges = cv2.Canny(gray, 50, 200)\n",
    "lines = cv2.HoughLinesP(edges, 1, np.pi/180, 100, minLineLength=10, maxLineGap=250)\n",
    "for line in lines:\n",
    "\n",
    "    x1, y1, x2, y2 = line[0]\n",
    "\n",
    "    cv2.line(img, (x1, y1), (x2, y2), (255, 0, 0), 3)\n",
    "\n",
    "display_image(img,\"Lined image\")\n",
    "\n",
    "angle,rotated=correct_skew(image)\n",
    "if abs(angle)>5:\n",
    "    rotated=rotated\n",
    "else:\n",
    "    rotated=image\n",
    "    \n",
    "display_image(rotated,\"rotated image\")\n",
    "\n",
    "print(angle)"
   ]
  },
  {
   "cell_type": "code",
   "execution_count": null,
   "metadata": {},
   "outputs": [],
   "source": [
    "'''\n",
    "image = cv2.imread(fileName)\n",
    "gray = cv2.cvtColor(image, cv2.COLOR_BGR2GRAY)\n",
    "gray = 255 - gray\n",
    "thresh = cv2.threshold(gray, 0, 255, cv2.THRESH_BINARY + cv2.THRESH_OTSU)[1]\n",
    "\n",
    "coords = np.column_stack(np.where(thresh > 0))\n",
    "angle = cv2.minAreaRect(coords)[-1]\n",
    "\n",
    "if angle < -45:\n",
    "    angle = -(90 + angle)\n",
    "else:\n",
    "    angle = -angle\n",
    "print(angle)\n",
    "\n",
    "if abs(angle)>10:\n",
    "    (h, w) = image.shape[:2]\n",
    "    center = (w // 2, h // 2)\n",
    "    M = cv2.getRotationMatrix2D(center, angle, 1.0)\n",
    "    rotated = cv2.warpAffine(image, M, (w, h), flags=cv2.INTER_CUBIC, borderMode=cv2.BORDER_REPLICATE)\n",
    "    display_image(rotated,\"Deskewed\")\n",
    "else:\n",
    "    rotated=image\n",
    "\n",
    "img = rotated\n",
    "gray = cv2.cvtColor(img, cv2.COLOR_BGR2GRAY)\n",
    "edges = cv2.Canny(gray, 50, 200)\n",
    "lines = cv2.HoughLinesP(edges, 1, np.pi/180, 100, minLineLength=10, maxLineGap=250)\n",
    "for line in lines:\n",
    "\n",
    "    x1, y1, x2, y2 = line[0]\n",
    "\n",
    "    cv2.line(img, (x1, y1), (x2, y2), (255, 0, 0), 3)\n",
    "\n",
    "display_image(img,\"Lined image\")\n",
    "    \n",
    "image = rotated\n",
    "gray = cv2.cvtColor(image, cv2.COLOR_BGR2GRAY)\n",
    "gray = 255 - gray\n",
    "thresh = cv2.threshold(gray, 0, 255, cv2.THRESH_BINARY + cv2.THRESH_OTSU)[1]\n",
    "\n",
    "coords = np.column_stack(np.where(thresh > 0))\n",
    "angle = cv2.minAreaRect(coords)[-1]\n",
    "\n",
    "if angle < -45:\n",
    "    angle = -(90 + angle)\n",
    "else:\n",
    "    angle = -angle\n",
    "print(angle)\n",
    "'''"
   ]
  },
  {
   "cell_type": "code",
   "execution_count": 118,
   "metadata": {},
   "outputs": [],
   "source": [
    "img = cv2.imread(fileName, 1)\n",
    "img = cv2.cvtColor(rotated, cv2.COLOR_BGR2GRAY) #convert to gray scale\n",
    "\n",
    "# applying Otsu thresholding \n",
    "# as an extra flag in binary  \n",
    "# thresholding      \n",
    "ret, img = cv2.threshold(img, 120, 255, cv2.THRESH_BINARY +  cv2.THRESH_OTSU) #otsu thresholding\n",
    "ret,img = cv2.threshold(img, 128, 255, cv2.THRESH_BINARY) #binary image gives 255 0 image\n",
    "img = cv2.normalize(img, None, alpha=0, beta=1, norm_type=cv2.NORM_MINMAX, dtype=cv2.CV_32F)  #to get 0,1 image\n",
    "binary_image=np.copy(img)\n",
    "display_image(binary_image,\"Binary image\")\n"
   ]
  },
  {
   "cell_type": "code",
   "execution_count": 47,
   "metadata": {},
   "outputs": [
    {
     "name": "stdout",
     "output_type": "stream",
     "text": [
      "[[[255 255 255]\n",
      "  [255 255 255]\n",
      "  [255 255 255]\n",
      "  ...\n",
      "  [255 255 255]\n",
      "  [255 255 255]\n",
      "  [255 255 255]]\n",
      "\n",
      " [[255 255 255]\n",
      "  [255 255 255]\n",
      "  [255 255 255]\n",
      "  ...\n",
      "  [255 255 255]\n",
      "  [255 255 255]\n",
      "  [255 255 255]]\n",
      "\n",
      " [[255 255 255]\n",
      "  [255 255 255]\n",
      "  [255 255 255]\n",
      "  ...\n",
      "  [255 255 255]\n",
      "  [255 255 255]\n",
      "  [255 255 255]]\n",
      "\n",
      " ...\n",
      "\n",
      " [[255 255 255]\n",
      "  [255 255 255]\n",
      "  [255 255 255]\n",
      "  ...\n",
      "  [255 255 255]\n",
      "  [255 255 255]\n",
      "  [255 255 255]]\n",
      "\n",
      " [[255 255 255]\n",
      "  [255 255 255]\n",
      "  [255 255 255]\n",
      "  ...\n",
      "  [255 255 255]\n",
      "  [255 255 255]\n",
      "  [255 255 255]]\n",
      "\n",
      " [[255 255 255]\n",
      "  [255 255 255]\n",
      "  [255 255 255]\n",
      "  ...\n",
      "  [255 255 255]\n",
      "  [255 255 255]\n",
      "  [255 255 255]]]\n"
     ]
    }
   ],
   "source": [
    "print(rotated)"
   ]
  },
  {
   "cell_type": "code",
   "execution_count": 119,
   "metadata": {},
   "outputs": [],
   "source": [
    "invert_image=np.ones(binary_image.shape)-binary_image\n",
    "kernel=np.ones((3,3))\n",
    "erosion_image = cv2.erode(invert_image, kernel,iterations=1) \n",
    "\n",
    "display_image(erosion_image,\"Post inverting and eroding image \")\n"
   ]
  },
  {
   "cell_type": "code",
   "execution_count": null,
   "metadata": {},
   "outputs": [],
   "source": []
  },
  {
   "cell_type": "code",
   "execution_count": 120,
   "metadata": {},
   "outputs": [
    {
     "name": "stdout",
     "output_type": "stream",
     "text": [
      "462 276 75 109 502 325\n",
      "601 321 106 4 653 322\n",
      "601 290 106 5 653 291\n",
      "767 276 98 76 815 325\n",
      "880 234 138 116 952 290\n",
      "1075 255 106 106 1127 307\n",
      "1238 234 118 116 1304 292\n"
     ]
    }
   ],
   "source": [
    "cv2.destroyAllWindows()\n",
    "\n",
    "#input erosion image \n",
    "#output segmented character images and centroids, bounding boxes.\n",
    "\n",
    "image_segement=np.copy(erosion_image)\n",
    "\n",
    "\n",
    "image_segement=image_segement*255 #scales up the image values as we need a uint8 image for segmentation\n",
    "image_segement = image_segement.astype(np.uint8) #convert the image to a uint8 from a float 64\n",
    "\n",
    "\n",
    "\n",
    "contours, hier = cv2.findContours(np.copy(image_segement), cv2.RETR_EXTERNAL,cv2.CHAIN_APPROX_NONE)\n",
    "contours = sorted(contours, key=lambda ctr: cv2.boundingRect(ctr)[0])\n",
    "display_image(image_segement,\"Contours\")\n",
    "\n",
    "d=0\n",
    "segmented_chars=[]\n",
    "for ctr in contours:\n",
    "    # Get bounding box\n",
    "    x, y, w, h = cv2.boundingRect(ctr)\n",
    "    #getting centroid\n",
    "    M = cv2.moments(ctr)\n",
    "    cX = int(M[\"m10\"] / M[\"m00\"])\n",
    "    cY = int(M[\"m01\"] / M[\"m00\"])\n",
    "    # Getting ROI\n",
    "    roi = image_segement[y:y+h, x:x+w]\n",
    "    x,y,w,h = cv2.boundingRect(ctr)\n",
    "    print(x,y,w,h,cX, cY)\n",
    "#     \n",
    "    blah=cv2.rectangle(np.copy(image_segement),(x,y),(x+w,y+h),(255,255,0),10)\n",
    "    cv2.circle(blah, (cX, cY), 7, (255, 0, 0), -1)\n",
    "\n",
    "    display_image(blah,'character: %d'%d)\n",
    "    \n",
    "    \n",
    "    segmented_chars.append(Segments(roi,[x,y,w,h],[cX,cY]))\n",
    "    \n",
    "    cv2.imwrite('character_%d.png'%d, roi)\n",
    "    cv2.waitKey(0)\n",
    "    cv2.destroyAllWindows()\n",
    "    d+=1"
   ]
  },
  {
   "cell_type": "code",
   "execution_count": 55,
   "metadata": {},
   "outputs": [
    {
     "name": "stdout",
     "output_type": "stream",
     "text": [
      "[[  0   0   0 ...   0   0   0]\n",
      " [  0   0   0 ...   0   0   0]\n",
      " [  0   0   0 ... 255 255   0]\n",
      " ...\n",
      " [  0   0   0 ...   0   0   0]\n",
      " [  0   0   0 ...   0   0   0]\n",
      " [  0   0   0 ...   0   0   0]]\n"
     ]
    }
   ],
   "source": [
    "print(segmented_chars[0].image_val)"
   ]
  },
  {
   "cell_type": "code",
   "execution_count": null,
   "metadata": {},
   "outputs": [],
   "source": []
  }
 ],
 "metadata": {
  "kernelspec": {
   "display_name": "Python 3",
   "language": "python",
   "name": "python3"
  },
  "language_info": {
   "codemirror_mode": {
    "name": "ipython",
    "version": 3
   },
   "file_extension": ".py",
   "mimetype": "text/x-python",
   "name": "python",
   "nbconvert_exporter": "python",
   "pygments_lexer": "ipython3",
   "version": "3.7.0"
  }
 },
 "nbformat": 4,
 "nbformat_minor": 4
}
